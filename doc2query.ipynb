{
 "cells": [
  {
   "cell_type": "code",
   "execution_count": null,
   "metadata": {},
   "outputs": [],
   "source": [
    "import numpy as np\n",
    "import json\n",
    "import os\n",
    "os.environ[\"CUDA_VISIBLE_DEVICES\"]=\"4\"  # specify which GPU(s) to be used\n"
   ]
  },
  {
   "cell_type": "code",
   "execution_count": null,
   "metadata": {},
   "outputs": [],
   "source": [
    "## Preprocess\n",
    "from pyvi import ViTokenizer, ViPosTagger\n",
    "\n",
    "def preprocess(text):\n",
    "    text = text.lower()\n",
    "    text = ViTokenizer.tokenize(text)\n",
    "    return text"
   ]
  },
  {
   "cell_type": "code",
   "execution_count": 27,
   "metadata": {},
   "outputs": [],
   "source": [
    "f = open('ViQuAD/train_ViQuAD.json', 'r')\n",
    "train_set = json.load(f)\n",
    "train_set = train_set['data']\n",
    "f = open('ViQuAD/dev_ViQuAD.json', 'r')\n",
    "dev_set = json.load(f)\n",
    "dev_set = dev_set['data']\n",
    "f = open('ViQuAD/test_ViQuAD.json', 'r')\n",
    "test_set = json.load(f)\n",
    "test_set = test_set['data']"
   ]
  },
  {
   "cell_type": "code",
   "execution_count": 35,
   "metadata": {},
   "outputs": [
    {
     "data": {
      "text/plain": [
       "5109"
      ]
     },
     "execution_count": 35,
     "metadata": {},
     "output_type": "execute_result"
    }
   ],
   "source": [
    "# contexts = []\n",
    "id = 0\n",
    "all_data = train_set+dev_set+test_set\n",
    "for article in all_data:\n",
    "    title = article['title']\n",
    "    for paragraph in article['paragraphs']:\n",
    "        context = paragraph['context']\n",
    "        # contexts.append(\n",
    "        #     {'id': id,\n",
    "        #     'contents': context,\n",
    "        #     'title': title\n",
    "        # })\n",
    "        contexts[id]['ori_contents'] = preprocess(context)\n",
    "        id+=1\n",
    "len(contexts)"
   ]
  },
  {
   "cell_type": "code",
   "execution_count": 29,
   "metadata": {},
   "outputs": [
    {
     "data": {
      "application/vnd.jupyter.widget-view+json": {
       "model_id": "c840d0249dce4c61ab6d3edeb91dbc90",
       "version_major": 2,
       "version_minor": 0
      },
      "text/plain": [
       "HBox(children=(HTML(value=''), FloatProgress(value=0.0, max=5109.0), HTML(value='')))"
      ]
     },
     "metadata": {},
     "output_type": "display_data"
    },
    {
     "name": "stdout",
     "output_type": "stream",
     "text": [
      "\n"
     ]
    }
   ],
   "source": [
    "from tqdm.auto import tqdm\n",
    "\n",
    "for context in tqdm(contexts):\n",
    "    content = context['contents']\n",
    "\n",
    "    pred_text = create_queries(content)\n",
    "    pred_text = ' '.join(pred_text)\n",
    "    context['contents'] = preprocess(content + ' ' + pred_text)"
   ]
  },
  {
   "cell_type": "code",
   "execution_count": 36,
   "metadata": {},
   "outputs": [
    {
     "data": {
      "text/plain": [
       "{'id': 0,\n",
       " 'contents': 'phạm văn đồng ( 1 tháng 3 năm 1906 – 29 tháng 4 năm 2000 ) là thủ_tướng đầu_tiên của nước cộng_hòa xã_hội chủ_nghĩa việt_nam từ năm 1976 ( từ năm 1981 gọi là chủ_tịch hội_đồng_bộ_trưởng ) cho đến khi nghỉ hưu năm 1987 . trước đó ông từng giữ chức_vụ thủ_tướng chính_phủ việt nam dân_chủ cộng_hòa từ năm 1955 đến năm 1976 . ông là vị thủ_tướng việt_nam tại vị lâu nhất ( 1955 – 1987 ) . ông là học_trò , cộng_sự của chủ_tịch hồ chí minh . ông có tên gọi thân_mật là tô , đây từng là bí_danh của ông . ông còn có tên gọi là lâm bá kiệt khi làm phó chủ_nhiệm cơ_quan biện sự xứ tại quế lâm ( chủ_nhiệm là hồ học lãm ) . tên của thủ_tướng việt nam là gì ai là chủ_tịch chính_phủ đầu_tiên của nước cộng_hòa xã_hội chủ_nghĩa việt nam thủ_tướng việt nam là ai thủ_tướng việt nam là ai phạm văn đồng là ai',\n",
       " 'title': 'Phạm Văn Đồng',\n",
       " 'ori_contents': 'phạm văn đồng ( 1 tháng 3 năm 1906 – 29 tháng 4 năm 2000 ) là thủ_tướng đầu_tiên của nước cộng_hòa xã_hội chủ_nghĩa việt_nam từ năm 1976 ( từ năm 1981 gọi là chủ_tịch hội_đồng_bộ_trưởng ) cho đến khi nghỉ hưu năm 1987 . trước đó ông từng giữ chức_vụ thủ_tướng chính_phủ việt nam dân_chủ cộng_hòa từ năm 1955 đến năm 1976 . ông là vị thủ_tướng việt_nam tại vị lâu nhất ( 1955 – 1987 ) . ông là học_trò , cộng_sự của chủ_tịch hồ chí minh . ông có tên gọi thân_mật là tô , đây từng là bí_danh của ông . ông còn có tên gọi là lâm bá kiệt khi làm phó chủ_nhiệm cơ_quan biện sự xứ tại quế lâm ( chủ_nhiệm là hồ học lãm ) .'}"
      ]
     },
     "execution_count": 36,
     "metadata": {},
     "output_type": "execute_result"
    }
   ],
   "source": [
    "contexts[0]"
   ]
  },
  {
   "cell_type": "code",
   "execution_count": 37,
   "metadata": {},
   "outputs": [],
   "source": [
    "with open('collections/doc2query.json','w') as f:\n",
    "    json.dump(contexts, f)\n"
   ]
  },
  {
   "cell_type": "code",
   "execution_count": 26,
   "metadata": {},
   "outputs": [
    {
     "data": {
      "text/plain": [
       "{'id': 0,\n",
       " 'contents': 'phạm văn đồng ( 1 tháng 3 năm 1906 – 29 tháng 4 năm 2000 ) là thủ_tướng đầu_tiên của nước cộng_hòa xã_hội chủ_nghĩa việt_nam từ năm 1976 ( từ năm 1981 gọi là chủ_tịch hội_đồng_bộ_trưởng ) cho đến khi nghỉ hưu năm 1987 . trước đó ông từng giữ chức_vụ thủ_tướng chính_phủ việt nam dân_chủ cộng_hòa từ năm 1955 đến năm 1976 . ông là vị thủ_tướng việt_nam tại vị lâu nhất ( 1955 – 1987 ) . ông là học_trò , cộng_sự của chủ_tịch hồ chí minh . ông có tên gọi thân_mật là tô , đây từng là bí_danh của ông . ông còn có tên gọi là lâm bá kiệt khi làm phó_chủ_nhiệm cơ_quan biện sự xứ tại quế lâm ( chủ_nhiệm là hồ học lãm ) . python là gì python là gì ? ai đã tạo_ra ngôn_ngữ python ? python là gì ngôn_ngữ nào là python python được thiết_kế để làm gì python là gì python là gì python là gì python là gì ?',\n",
       " 'title': 'Phạm Văn Đồng'}"
      ]
     },
     "execution_count": 26,
     "metadata": {},
     "output_type": "execute_result"
    }
   ],
   "source": [
    "contexts[0]"
   ]
  },
  {
   "cell_type": "code",
   "execution_count": null,
   "metadata": {},
   "outputs": [],
   "source": [
    "from transformers import AutoTokenizer, AutoModelForSeq2SeqLM\n",
    "import torch\n",
    "\n",
    "model_name = 'doc2query/msmarco-vietnamese-mt5-base-v1'\n",
    "tokenizer = AutoTokenizer.from_pretrained(model_name)\n",
    "model = AutoModelForSeq2SeqLM.from_pretrained(model_name).to('cuda')\n"
   ]
  },
  {
   "cell_type": "code",
   "execution_count": null,
   "metadata": {},
   "outputs": [],
   "source": [
    "import time\n",
    "start = time.time()\n",
    "text = \"Python (phát âm tiếng Anh: /ˈpaɪθɑːn/) là một ngôn ngữ lập trình bậc cao cho các mục đích lập trình đa năng, do Guido van Rossum tạo ra và lần đầu ra mắt vào năm 1991. Python được thiết kế với ưu điểm mạnh là dễ đọc, dễ học và dễ nhớ. Python là ngôn ngữ có hình thức rất sáng sủa, cấu trúc rõ ràng, thuận tiện cho người mới học lập trình và là ngôn ngữ lập trình dễ học; được dùng rộng rãi trong phát triển trí tuệ nhân tạo. Cấu trúc của Python còn cho phép người sử dụng viết mã lệnh với số lần gõ phím tối thiểu. Vào tháng 7 năm 2018, van Rossum đã từ chức lãnh đạo trong cộng đồng ngôn ngữ Python sau 30 năm làm việc.\"\n",
    "\n",
    "\n",
    "def create_queries(para, type_gen='sampling', ):\n",
    "    input_ids = tokenizer.encode(para, return_tensors='pt').to('cuda:0')\n",
    "    outputs = []\n",
    "    with torch.no_grad():\n",
    "        if type_gen == 'sampling':\n",
    "            # Here we use top_k / top_k random sampling. It generates more diverse queries, but of lower quality\n",
    "            pred_outputs = model.generate(\n",
    "                input_ids=input_ids,\n",
    "                max_length=64,\n",
    "                do_sample=True,\n",
    "                top_p=0.95,\n",
    "                top_k=10, \n",
    "                num_return_sequences=5\n",
    "                ).to('cuda')\n",
    "        else:\n",
    "            # Here we use Beam-search. It generates better quality queries, but with less diversity\n",
    "            pred_outputs = model.generate(\n",
    "                input_ids=input_ids, \n",
    "                max_length=64, \n",
    "                num_beams=5, \n",
    "                no_repeat_ngram_size=2, \n",
    "                num_return_sequences=5, \n",
    "                early_stopping=True\n",
    "            )\n",
    "\n",
    "        for i in range(len(pred_outputs)):\n",
    "            query = tokenizer.decode(pred_outputs[i], skip_special_tokens=True)\n",
    "            outputs.append(query)\n",
    "\n",
    "    return outputs\n",
    "\n",
    "create_queries(text)\n",
    "print(time.time()-start)"
   ]
  },
  {
   "cell_type": "code",
   "execution_count": null,
   "metadata": {},
   "outputs": [],
   "source": [
    "## Index\n",
    "# !python -m pyserini.index.lucene \\\n",
    "#     --collection JsonCollection \\\n",
    "#     --input collections \\\n",
    "#     --index indexes/sample_collection_jsonl \\\n",
    "#     --generator DefaultLuceneDocumentGenerator \\\n",
    "#     --threads 1 \\\n",
    "#     --storePositions --storeDocvectors --storeRaw"
   ]
  }
 ],
 "metadata": {
  "kernelspec": {
   "display_name": "Python 3 (ipykernel)",
   "language": "python",
   "name": "python3"
  },
  "language_info": {
   "codemirror_mode": {
    "name": "ipython",
    "version": 3
   },
   "file_extension": ".py",
   "mimetype": "text/x-python",
   "name": "python",
   "nbconvert_exporter": "python",
   "pygments_lexer": "ipython3",
   "version": "3.8.8"
  }
 },
 "nbformat": 4,
 "nbformat_minor": 2
}
